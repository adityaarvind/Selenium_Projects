{
 "cells": [
  {
   "cell_type": "code",
   "execution_count": null,
   "metadata": {},
   "outputs": [],
   "source": [
    "\n",
    "import os\n",
    "from selenium import webdriver\n",
    "from selenium.webdriver.common.by import By\n",
    "from selenium.webdriver.support.ui import WebDriverWait\n",
    "from selenium.webdriver.support import expected_conditions as EC\n",
    "import numpy as np\n",
    "import pandas as pd\n",
    "from bs4 import BeautifulSoup\n",
    "import time\n",
    "from datetime import datetime\n",
    "from time import sleep"
   ]
  },
  {
   "cell_type": "code",
   "execution_count": null,
   "metadata": {},
   "outputs": [],
   "source": [
    "#use the following code if the link is an .aspx file\n",
    "profile = webdriver.FirefoxProfile()\n",
    "profile.set_preference(\"browser.download.folderList\", 2)\n",
    "profile.set_preference(\"browser.download.manager.showWhenStarting\", False)\n",
    "profile.set_preference(\"browser.helperApps.neverAsk.saveToDisk\", \"application/x-gzip\")\n",
    "\n",
    "driver = webdriver.Firefox(firefox_profile=profile,executable_path=r'E:\\geckodriver-v0.29.0-win64\\geckodriver.exe')"
   ]
  },
  {
   "cell_type": "code",
   "execution_count": null,
   "metadata": {},
   "outputs": [],
   "source": [
    "from datetime import datetime\n",
    "driver = webdriver.Firefox(firefox_profile=profile,executable_path=r'E:\\geckodriver-v0.29.0-win64\\geckodriver.exe')\n",
    "#time interval in seconds\n",
    "Timeinterval = 50\n",
    "name = \"sensex\"\n",
    "driver.get(\"https://www.google.com/search?client=firefox-b-d&q=\" + name + \"+share+price\")\n",
    "\n",
    "number = 0\n",
    "Priceseries = []\n",
    "while number < 10:\n",
    "    price = driver.find_element_by_css_selector(\"span[jsname='vWLAgc']\").text\n",
    "    Priceseries.append(price)\n",
    "    T = str(datetime.now())\n",
    "    print(price , T)\n",
    "    time.sleep(Timeinterval)\n",
    "    number = number + 1\n",
    "    T = []\n"
   ]
  }
 ],
 "metadata": {
  "kernelspec": {
   "display_name": "Python 3",
   "language": "python",
   "name": "python3"
  },
  "language_info": {
   "codemirror_mode": {
    "name": "ipython",
    "version": 3
   },
   "file_extension": ".py",
   "mimetype": "text/x-python",
   "name": "python",
   "nbconvert_exporter": "python",
   "pygments_lexer": "ipython3",
   "version": "3.8.5"
  }
 },
 "nbformat": 4,
 "nbformat_minor": 4
}
