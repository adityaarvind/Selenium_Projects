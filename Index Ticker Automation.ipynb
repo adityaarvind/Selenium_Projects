{
 "cells": [
  {
   "cell_type": "code",
   "execution_count": null,
   "metadata": {},
   "outputs": [],
   "source": [
    "\n",
    "import os\n",
    "from selenium import webdriver\n",
    "from selenium.webdriver.common.by import By\n",
    "from selenium.webdriver.support.ui import WebDriverWait\n",
    "from selenium.webdriver.support import expected_conditions as EC\n",
    "import numpy as np\n",
    "import pandas as pd\n",
    "from bs4 import BeautifulSoup\n",
    "import time\n",
    "from selenium.webdriver.common.keys import Keys\n",
    "from selenium.common.exceptions import NoSuchElementException"
   ]
  },
  {
   "cell_type": "code",
   "execution_count": null,
   "metadata": {},
   "outputs": [],
   "source": [
    "#use the following code if the link is an .aspx file\n",
    "profile = webdriver.FirefoxProfile()\n",
    "profile.set_preference(\"browser.download.folderList\", 2)\n",
    "profile.set_preference(\"browser.download.manager.showWhenStarting\", False)\n",
    "profile.set_preference(\"browser.helperApps.neverAsk.saveToDisk\", \"application/x-gzip\")\n",
    "\n",
    "driver = webdriver.Firefox(firefox_profile=profile,executable_path=r'E:\\geckodriver-v0.29.0-win64\\geckodriver.exe')"
   ]
  },
  {
   "cell_type": "code",
   "execution_count": null,
   "metadata": {},
   "outputs": [],
   "source": [
    "Companies =['3 Capital ltd', '360T (Deutsche Börse Group)', '3i Infotech', '3m South east region', '4Quadra Management Consultants', 'A Diversified Group', 'A.P Moller- Maresk', 'A3 Events Limited', 'Aakash Educational Services', 'Aamro Freight & Shipping Services LLC', 'Aanai Design Studio'] "
   ]
  },
  {
   "cell_type": "code",
   "execution_count": null,
   "metadata": {},
   "outputs": [],
   "source": [
    "Alltickindex=[]\n",
    "\n",
    "driver = webdriver.Firefox(firefox_profile=profile,executable_path=r'E:\\geckodriver-v0.29.0-win64\\geckodriver.exe')\n",
    "url = \"https://www.google.com/\"\n",
    "\n",
    "\n",
    "for i in range(0,len(Companies)):\n",
    "\n",
    "    Co = Companies[i]    \n",
    "    driver.get(url)\n",
    "    time.sleep(2)\n",
    "    from selenium.webdriver.support.ui import Select\n",
    "    element = driver.find_element_by_name('q')\n",
    "    element.send_keys( Co + \" \" + \"share price\")\n",
    "    element.send_keys(Keys.RETURN)\n",
    "    time.sleep(2)\n",
    "    try:\n",
    "        Indextick = driver.find_element_by_css_selector(\"div[class='HfMth PZPZlf']\").text\n",
    "    except NoSuchElementException:\n",
    "        Indextick = \"Nil\"\n",
    "    Alltickindex.append(Indextick)\n",
    "    print(Co, Indextick)\n"
   ]
  }
 ],
 "metadata": {
  "kernelspec": {
   "display_name": "Python 3",
   "language": "python",
   "name": "python3"
  },
  "language_info": {
   "codemirror_mode": {
    "name": "ipython",
    "version": 3
   },
   "file_extension": ".py",
   "mimetype": "text/x-python",
   "name": "python",
   "nbconvert_exporter": "python",
   "pygments_lexer": "ipython3",
   "version": "3.8.5"
  }
 },
 "nbformat": 4,
 "nbformat_minor": 4
}
