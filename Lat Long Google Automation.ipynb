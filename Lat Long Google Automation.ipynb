{
 "cells": [
  {
   "cell_type": "code",
   "execution_count": null,
   "metadata": {},
   "outputs": [],
   "source": [
    "import os\n",
    "from selenium import webdriver\n",
    "from selenium.webdriver.common.by import By\n",
    "from selenium.webdriver.support.ui import WebDriverWait\n",
    "from selenium.webdriver.support import expected_conditions as EC\n",
    "import numpy as np\n",
    "import pandas as pd\n",
    "from bs4 import BeautifulSoup\n",
    "import time\n",
    "from selenium.webdriver.common.action_chains import ActionChains\n",
    "from selenium import webdriver\n",
    "from selenium.webdriver.common.keys import Keys\n",
    "from time import sleep"
   ]
  },
  {
   "cell_type": "code",
   "execution_count": null,
   "metadata": {},
   "outputs": [],
   "source": [
    "#use the following code if the link is an .aspx file\n",
    "profile = webdriver.FirefoxProfile()\n",
    "profile.set_preference(\"browser.download.folderList\", 2)\n",
    "profile.set_preference(\"browser.download.manager.showWhenStarting\", False)\n",
    "profile.set_preference(\"browser.helperApps.neverAsk.saveToDisk\", \"application/x-gzip\")\n",
    "\n",
    "driver = webdriver.Firefox(firefox_profile=profile,executable_path=r'E:\\geckodriver-v0.29.0-win64\\geckodriver.exe')"
   ]
  },
  {
   "cell_type": "code",
   "execution_count": null,
   "metadata": {},
   "outputs": [],
   "source": [
    "List1 = [\"Proddatur\",\"Tirupati\",\"Tuni\",\"Cuddapah\",\"Nellore\",\"Anantapur\",\"Srikakulam\",\"Cumbum\",\"Ravulapalem\",\"Garividi\",\"Srirampuram\",\"Tiruvuru\",\"Visakhapatnam\",\"Vijayawada\",\"Golaghat\",\"Silchar\",\"Jamshedpur\",\"Saharsa\",\"Ranchi\",\"Delhi NCR\",\"Navsari\",\"Ahmedabad\",\"Vadodara\",\"Gandhinagar\",\"Hisar\",\"Yamunanagar\",\"Chandigarh\",\"Panchkula\",\"Faridabad\",\"Karnal\",\"Rewari\",\"Narnaul\",\"Ambala\",\"Kurukshetra\",\"Sonepat\",\"Shahbad\",\"Bangalore\",\"Mangalore\",\"Raichur\",\"Gulbarga\",\"Mandya\",\"Chikmagalur\",\"Dharwad\",\"Bhadravathi\",\"Gonikoppa, Coorg\",\"Kolar\",\"Puttur\",\"Bellary\",\"Mysore\",\"Kushalnagar\",\"Belagavi\",\"Chikkaballapur\",\"Kasaragodu\",\"Bathery, wayanad\",\"Thrissur\",\"Thikkodi\",\"Peruvallur, Mallapuram\",\"Meppadi, wayanad\",\"Kannur\",\"Panyyannur\",\"Hoshangabad\",\"Seoni\",\"Jabalpur\",\"Gwalior\",\"Mandsur\",\"Satna\",\"Bhilakhedi\",\"Narsingpur\",\"Bhopal\",\"Balaghat\",\"Janjgir Champa\",\"Indor\",\"Bhairopur\",\"Katni\",\"Dhamtari\",\"Bhilai\",\"Khandwa\",\"Bishrampur\",\"Korba\",\"Khurai\",\"betul\",\"Chindwara\",\"Rewari\",\"Mandla\",\"Raipur\",\"singraulee\",\"Umariyan\",\"Dhaar\",\"Yavatmal\",\"Madgaon\",\"Imphal\",\"Bhubaneswar\",\"Bhadrak\",\"Kamardha, balasore\",\"Sangrur\",\"Patiala\",\"Zewan Srinagar\",\"Hoshiarpur\",\"Jaipur\",\"Udaipur\",\"Gangtok\",\"Rongli\",\"Rabong\",\"Assamlingay\",\"Namthang\",\"Dentam\",\"Mettur\",\"Thiruvalluvar\",\"Kancheepuram\",\"Virudhanagar\",\"Tiruppur\",\"Tiruvarur\",\"Tiruvannamalai\",\"Madurai\",\"Tirunelveli\",\"Vellore\",\"Krishnagiri\",\"Rishikesh\",\"Lucknow\",\"Sitarganj\",\"Dehradun\",\"Siliguri\",\"Barrackpore\",\"Jagatballavpur\",\"Sainthia\",\"Krishnanagar\",\"Anara\",\"Kabley\",\"Balurghat\",\"Susunia\",\"Bankura\",\"Midnapore\",\"Nadia\",\"Malda\",\"Dinajpur\",\"Birbhum\",\"Kharagpur\",\"Durgapur\",\"Kolkata\"\n",
    "]"
   ]
  },
  {
   "cell_type": "code",
   "execution_count": null,
   "metadata": {},
   "outputs": [],
   "source": [
    "Alllatlong=[]\n",
    "\n",
    "driver = webdriver.Firefox(firefox_profile=profile,executable_path=r'E:\\geckodriver-v0.29.0-win64\\geckodriver.exe')\n",
    "url = \"https://www.google.com/\"\n",
    "\n",
    "\n",
    "for i in range(0,len(List1)):\n",
    "\n",
    "    city = List1[i]    \n",
    "    driver.get(url)\n",
    "    time.sleep(2)\n",
    "    from selenium.webdriver.support.ui import Select\n",
    "    element = driver.find_element_by_name('q')\n",
    "    element.send_keys( city + \" \" + \"lat long\")\n",
    "    element.send_keys(Keys.RETURN)\n",
    "    time.sleep(2)\n",
    "    latlong = driver.find_element_by_css_selector(\"div[class='Z0LcW XcVN5d']\").text\n",
    "\n",
    "    Alllatlong.append(latlong)\n",
    "    print(city, latlong)\n",
    "\n"
   ]
  },
  {
   "cell_type": "code",
   "execution_count": null,
   "metadata": {},
   "outputs": [],
   "source": []
  }
 ],
 "metadata": {
  "kernelspec": {
   "display_name": "Python 3",
   "language": "python",
   "name": "python3"
  },
  "language_info": {
   "codemirror_mode": {
    "name": "ipython",
    "version": 3
   },
   "file_extension": ".py",
   "mimetype": "text/x-python",
   "name": "python",
   "nbconvert_exporter": "python",
   "pygments_lexer": "ipython3",
   "version": "3.8.5"
  }
 },
 "nbformat": 4,
 "nbformat_minor": 4
}
